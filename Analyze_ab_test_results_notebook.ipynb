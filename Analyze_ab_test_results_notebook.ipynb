{
 "cells": [
  {
   "cell_type": "markdown",
   "metadata": {},
   "source": [
    "## Analyze A/B Test Results\n",
    "\n",
    "This project will assure you have mastered the subjects covered in the statistics lessons.  The hope is to have this project be as comprehensive of these topics as possible.  Good luck!\n",
    "\n",
    "## Table of Contents\n",
    "- [Introduction](#intro)\n",
    "- [Part I - Probability](#probability)\n",
    "- [Part II - A/B Test](#ab_test)\n",
    "- [Part III - Regression](#regression)\n",
    "\n",
    "\n",
    "<a id='intro'></a>\n",
    "### Introduction\n",
    "\n",
    "A/B tests are very commonly performed by data analysts and data scientists.  It is important that you get some practice working with the difficulties of these \n",
    "\n",
    "For this project, you will be working to understand the results of an A/B test run by an e-commerce website.  Your goal is to work through this notebook to help the company understand if they should implement the new page, keep the old page, or perhaps run the experiment longer to make their decision.\n",
    "\n",
    "**As you work through this notebook, follow along in the classroom and answer the corresponding quiz questions associated with each question.** The labels for each classroom concept are provided for each question.  This will assure you are on the right track as you work through the project, and you can feel more confident in your final submission meeting the criteria.  As a final check, assure you meet all the criteria on the [RUBRIC](https://review.udacity.com/#!/projects/37e27304-ad47-4eb0-a1ab-8c12f60e43d0/rubric).\n",
    "\n",
    "<a id='probability'></a>\n",
    "#### Part I - Probability\n",
    "\n",
    "To get started, let's import our libraries."
   ]
  },
  {
   "cell_type": "code",
   "execution_count": 1,
   "metadata": {
    "collapsed": true
   },
   "outputs": [],
   "source": [
    "import pandas as pd\n",
    "import numpy as np\n",
    "import random\n",
    "import matplotlib.pyplot as plt\n",
    "%matplotlib inline\n",
    "#We are setting the seed to assure you get the same answers on quizzes as we set up\n",
    "random.seed(42)"
   ]
  },
  {
   "cell_type": "markdown",
   "metadata": {},
   "source": [
    "`1.` Now, read in the `ab_data.csv` data. Store it in `df`.  **Use your dataframe to answer the questions in Quiz 1 of the classroom.**\n",
    "\n",
    "a. Read in the dataset and take a look at the top few rows here:"
   ]
  },
  {
   "cell_type": "code",
   "execution_count": 2,
   "metadata": {
    "collapsed": true
   },
   "outputs": [
    {
     "data": {
      "text/html": [
       "<div>\n",
       "<style scoped>\n",
       "    .dataframe tbody tr th:only-of-type {\n",
       "        vertical-align: middle;\n",
       "    }\n",
       "\n",
       "    .dataframe tbody tr th {\n",
       "        vertical-align: top;\n",
       "    }\n",
       "\n",
       "    .dataframe thead th {\n",
       "        text-align: right;\n",
       "    }\n",
       "</style>\n",
       "<table border=\"1\" class=\"dataframe\">\n",
       "  <thead>\n",
       "    <tr style=\"text-align: right;\">\n",
       "      <th></th>\n",
       "      <th>user_id</th>\n",
       "      <th>timestamp</th>\n",
       "      <th>group</th>\n",
       "      <th>landing_page</th>\n",
       "      <th>converted</th>\n",
       "    </tr>\n",
       "  </thead>\n",
       "  <tbody>\n",
       "    <tr>\n",
       "      <th>0</th>\n",
       "      <td>851104</td>\n",
       "      <td>2017-01-21 22:11:48.556739</td>\n",
       "      <td>control</td>\n",
       "      <td>old_page</td>\n",
       "      <td>0</td>\n",
       "    </tr>\n",
       "    <tr>\n",
       "      <th>1</th>\n",
       "      <td>804228</td>\n",
       "      <td>2017-01-12 08:01:45.159739</td>\n",
       "      <td>control</td>\n",
       "      <td>old_page</td>\n",
       "      <td>0</td>\n",
       "    </tr>\n",
       "    <tr>\n",
       "      <th>2</th>\n",
       "      <td>661590</td>\n",
       "      <td>2017-01-11 16:55:06.154213</td>\n",
       "      <td>treatment</td>\n",
       "      <td>new_page</td>\n",
       "      <td>0</td>\n",
       "    </tr>\n",
       "    <tr>\n",
       "      <th>3</th>\n",
       "      <td>853541</td>\n",
       "      <td>2017-01-08 18:28:03.143765</td>\n",
       "      <td>treatment</td>\n",
       "      <td>new_page</td>\n",
       "      <td>0</td>\n",
       "    </tr>\n",
       "    <tr>\n",
       "      <th>4</th>\n",
       "      <td>864975</td>\n",
       "      <td>2017-01-21 01:52:26.210827</td>\n",
       "      <td>control</td>\n",
       "      <td>old_page</td>\n",
       "      <td>1</td>\n",
       "    </tr>\n",
       "  </tbody>\n",
       "</table>\n",
       "</div>"
      ],
      "text/plain": [
       "   user_id                   timestamp      group landing_page  converted\n",
       "0   851104  2017-01-21 22:11:48.556739    control     old_page          0\n",
       "1   804228  2017-01-12 08:01:45.159739    control     old_page          0\n",
       "2   661590  2017-01-11 16:55:06.154213  treatment     new_page          0\n",
       "3   853541  2017-01-08 18:28:03.143765  treatment     new_page          0\n",
       "4   864975  2017-01-21 01:52:26.210827    control     old_page          1"
      ]
     },
     "execution_count": 2,
     "metadata": {},
     "output_type": "execute_result"
    }
   ],
   "source": [
    "df = pd.read_csv('ab_data.csv')\n",
    "\n",
    "df.head()"
   ]
  },
  {
   "cell_type": "markdown",
   "metadata": {},
   "source": [
    "b. Use the below cell to find the number of rows in the dataset."
   ]
  },
  {
   "cell_type": "code",
   "execution_count": 3,
   "metadata": {
    "collapsed": true
   },
   "outputs": [
    {
     "name": "stdout",
     "output_type": "stream",
     "text": [
      "The dataset contains 294478 rows.\n"
     ]
    }
   ],
   "source": [
    "num_rows = df.shape[0]\n",
    "print(f'The dataset contains {num_rows} rows.')"
   ]
  },
  {
   "cell_type": "markdown",
   "metadata": {},
   "source": [
    "c. The number of unique users in the dataset."
   ]
  },
  {
   "cell_type": "code",
   "execution_count": 4,
   "metadata": {
    "collapsed": true
   },
   "outputs": [
    {
     "name": "stdout",
     "output_type": "stream",
     "text": [
      "The dataset contains 290584 unique users.\n",
      "The control group has 146195 users and the treatment group has 146284 users.\n"
     ]
    }
   ],
   "source": [
    "# number of unique users in the dataset.\n",
    "num_unique_users = df['user_id'].nunique()\n",
    "print(f'The dataset contains {num_unique_users} unique users.')\n",
    "\n",
    "# number of users in the control and treatment groups.\n",
    "num_control_users = df[df['group'] == 'control']['user_id'].nunique()\n",
    "num_treatment_users = df[df['group'] == 'treatment']['user_id'].nunique()\n",
    "print(f'The control group has {num_control_users} users and the treatment group has {num_treatment_users} users.')"
   ]
  },
  {
   "cell_type": "markdown",
   "metadata": {
    "collapsed": true
   },
   "source": [
    "d. The proportion of users converted."
   ]
  },
  {
   "cell_type": "code",
   "execution_count": 5,
   "metadata": {
    "collapsed": true
   },
   "outputs": [
    {
     "name": "stdout",
     "output_type": "stream",
     "text": [
      "The proportion of users converted is 12.10%.\n",
      "The proportion of users converted in the control group is 12.11% and in the treatment group is 11.96%.\n"
     ]
    }
   ],
   "source": [
    "# proportion of users converted\n",
    "num_converted_users = df[df['converted'] == 1]['user_id'].nunique()\n",
    "proportion_converted = num_converted_users / num_unique_users\n",
    "print(f'The proportion of users converted is {proportion_converted:.2%}.')\n",
    "\n",
    "# proportion of users converted in the control and treatment groups\n",
    "num_control_converted = df[(df['group'] == 'control') & (df['converted'] == 1)]['user_id'].nunique()\n",
    "num_treatment_converted = df[(df['group'] == 'treatment') & (df['converted'] == 1)]['user_id'].nunique()\n",
    "proportion_control_converted = num_control_converted / num_control_users\n",
    "proportion_treatment_converted = num_treatment_converted / num_treatment_users\n",
    "print(f'The proportion of users converted in the control group is {proportion_control_converted:.2%} and in the treatment group is {proportion_treatment_converted:.2%}.')"
   ]
  },
  {
   "cell_type": "markdown",
   "metadata": {
    "collapsed": true
   },
   "source": [
    "e. The number of times the `new_page` and `treatment` don't line up."
   ]
  },
  {
   "cell_type": "code",
   "execution_count": 6,
   "metadata": {
    "collapsed": true
   },
   "outputs": [
    {
     "name": "stdout",
     "output_type": "stream",
     "text": [
      "Rows where new_page doesn't align with treatment: 1928\n"
     ]
    }
   ],
   "source": [
    "# The number of times the `new_page` and `treatment` don't line up.\n",
    "mismatched_new_page = df[(df['landing_page'] == 'new_page') & (df['group'] != 'treatment')].shape[0]\n",
    "print(f\"Rows where new_page doesn't align with treatment: {mismatched_new_page}\")"
   ]
  },
  {
   "cell_type": "markdown",
   "metadata": {},
   "source": [
    "f. Do any of the rows have missing values?"
   ]
  },
  {
   "cell_type": "code",
   "execution_count": 7,
   "metadata": {
    "collapsed": true
   },
   "outputs": [
    {
     "name": "stdout",
     "output_type": "stream",
     "text": [
      "Missing values in each column:\n",
      "user_id         0\n",
      "timestamp       0\n",
      "group           0\n",
      "landing_page    0\n",
      "converted       0\n",
      "dtype: int64\n",
      "There are no missing values in the dataset.\n"
     ]
    }
   ],
   "source": [
    "# Checking null values?\n",
    "missing_values = df.isnull().sum()\n",
    "print(\"Missing values in each column:\")\n",
    "print(missing_values)\n",
    "\n",
    "if (missing_values > 0).any():\n",
    "    print(\"There are missing values in the dataset.\")\n",
    "else:\n",
    "    print(\"There are no missing values in the dataset.\")\n"
   ]
  },
  {
   "cell_type": "markdown",
   "metadata": {},
   "source": [
    "`2.` For the rows where **treatment** is not aligned with **new_page** or **control** is not aligned with **old_page**, we cannot be sure if this row truly received the new or old page.  Use **Quiz 2** in the classroom to provide how we should handle these rows.  \n",
    "\n",
    "a. Now use the answer to the quiz to create a new dataset that meets the specifications from the quiz.  Store your new dataframe in **df2**."
   ]
  },
  {
   "cell_type": "code",
   "execution_count": 8,
   "metadata": {
    "collapsed": true
   },
   "outputs": [],
   "source": [
    "# Get the rows where treatment is not aligned with new_page or control is not aligned with old_page\n",
    "mismatched_treatment = df[(df['landing_page'] == 'new_page') & (df['group'] != 'treatment')]\n",
    "mismatched_control = df[(df['landing_page'] == 'old_page') & (df['group'] != 'control')]\n",
    "df22 = pd.concat([mismatched_treatment, mismatched_control])"
   ]
  },
  {
   "cell_type": "code",
   "execution_count": 9,
   "metadata": {},
   "outputs": [],
   "source": [
    "# Get the rows where treatment is aligned with new_page or control is aligned with old_page\n",
    "matched_treatment = df[(df['landing_page'] == 'new_page') & (df['group'] == 'treatment')]\n",
    "matched_control = df[(df['landing_page'] == 'old_page') & (df['group'] == 'control')]\n",
    "df2 = pd.concat([matched_treatment, matched_control])"
   ]
  },
  {
   "cell_type": "code",
   "execution_count": 10,
   "metadata": {
    "collapsed": true
   },
   "outputs": [
    {
     "data": {
      "text/plain": [
       "0"
      ]
     },
     "execution_count": 10,
     "metadata": {},
     "output_type": "execute_result"
    }
   ],
   "source": [
    "# Double Check all of the correct rows were removed - this should be 0\n",
    "df2[((df2['group'] == 'treatment') == (df2['landing_page'] == 'new_page')) == False].shape[0]"
   ]
  },
  {
   "cell_type": "markdown",
   "metadata": {},
   "source": [
    "`3.` Use **df2** and the cells below to answer questions for **Quiz3** in the classroom."
   ]
  },
  {
   "cell_type": "markdown",
   "metadata": {},
   "source": [
    "a. How many unique **user_id**s are in **df2**?"
   ]
  },
  {
   "cell_type": "code",
   "execution_count": 11,
   "metadata": {
    "collapsed": true
   },
   "outputs": [
    {
     "name": "stdout",
     "output_type": "stream",
     "text": [
      "The dataset contains 290584 unique users.\n"
     ]
    }
   ],
   "source": [
    "num_unique_users_df2 = df2['user_id'].nunique()\n",
    "print(f'The dataset contains {num_unique_users_df2} unique users.')\n"
   ]
  },
  {
   "cell_type": "markdown",
   "metadata": {
    "collapsed": true
   },
   "source": [
    "b. There is one **user_id** repeated in **df2**.  What is it?"
   ]
  },
  {
   "cell_type": "code",
   "execution_count": 12,
   "metadata": {
    "collapsed": true
   },
   "outputs": [
    {
     "data": {
      "text/plain": [
       "array([773192])"
      ]
     },
     "execution_count": 12,
     "metadata": {},
     "output_type": "execute_result"
    }
   ],
   "source": [
    "df2[df2.duplicated(['user_id'], keep=False)]['user_id'].unique()"
   ]
  },
  {
   "cell_type": "markdown",
   "metadata": {},
   "source": [
    "c. What is the row information for the repeat **user_id**? "
   ]
  },
  {
   "cell_type": "code",
   "execution_count": 13,
   "metadata": {
    "collapsed": true
   },
   "outputs": [
    {
     "data": {
      "text/html": [
       "<div>\n",
       "<style scoped>\n",
       "    .dataframe tbody tr th:only-of-type {\n",
       "        vertical-align: middle;\n",
       "    }\n",
       "\n",
       "    .dataframe tbody tr th {\n",
       "        vertical-align: top;\n",
       "    }\n",
       "\n",
       "    .dataframe thead th {\n",
       "        text-align: right;\n",
       "    }\n",
       "</style>\n",
       "<table border=\"1\" class=\"dataframe\">\n",
       "  <thead>\n",
       "    <tr style=\"text-align: right;\">\n",
       "      <th></th>\n",
       "      <th>user_id</th>\n",
       "      <th>timestamp</th>\n",
       "      <th>group</th>\n",
       "      <th>landing_page</th>\n",
       "      <th>converted</th>\n",
       "    </tr>\n",
       "  </thead>\n",
       "  <tbody>\n",
       "    <tr>\n",
       "      <th>1899</th>\n",
       "      <td>773192</td>\n",
       "      <td>2017-01-09 05:37:58.781806</td>\n",
       "      <td>treatment</td>\n",
       "      <td>new_page</td>\n",
       "      <td>0</td>\n",
       "    </tr>\n",
       "  </tbody>\n",
       "</table>\n",
       "</div>"
      ],
      "text/plain": [
       "      user_id                   timestamp      group landing_page  converted\n",
       "1899   773192  2017-01-09 05:37:58.781806  treatment     new_page          0"
      ]
     },
     "execution_count": 13,
     "metadata": {},
     "output_type": "execute_result"
    }
   ],
   "source": [
    "df2[df2.duplicated(['user_id'], keep=False)].drop_duplicates(['user_id'])"
   ]
  },
  {
   "cell_type": "markdown",
   "metadata": {},
   "source": [
    "d. Remove **one** of the rows with a duplicate **user_id**, but keep your dataframe as **df2**."
   ]
  },
  {
   "cell_type": "code",
   "execution_count": 14,
   "metadata": {
    "collapsed": true
   },
   "outputs": [],
   "source": [
    "df2 = df2[~df2.duplicated(['user_id'], keep='first')]"
   ]
  },
  {
   "cell_type": "markdown",
   "metadata": {},
   "source": [
    "`4.` Use **df2** in the below cells to answer the quiz questions related to **Quiz 4** in the classroom.\n",
    "\n",
    "a. What is the probability of an individual converting regardless of the page they receive?"
   ]
  },
  {
   "cell_type": "code",
   "execution_count": null,
   "metadata": {
    "collapsed": true
   },
   "outputs": [
    {
     "name": "stdout",
     "output_type": "stream",
     "text": [
      "Probability of converting:  11.96%\n"
     ]
    }
   ],
   "source": [
    "# what is the probability of an individual converting regardless of the page they receive?\n",
    "# get all those converted\n",
    "all_converted = df2[df2['converted'] == 1]\n",
    "\n",
    "# get the number of unique users who converted\n",
    "converted_users = all_converted['user_id'].nunique()\n",
    "\n",
    "# calculate the probability\n",
    "probability = converted_users / num_unique_users_df2\n",
    "\n",
    "print(f\"Probability of converting: {probability: .2%}\")"
   ]
  },
  {
   "cell_type": "markdown",
   "metadata": {},
   "source": [
    "b. Given that an individual was in the `control` group, what is the probability they converted?"
   ]
  },
  {
   "cell_type": "code",
   "execution_count": 20,
   "metadata": {
    "collapsed": true
   },
   "outputs": [
    {
     "name": "stdout",
     "output_type": "stream",
     "text": [
      "Probability of converting in control group:  12.04%\n"
     ]
    }
   ],
   "source": [
    "control_converted = df2[(df2['converted'] == 1) & (df2['group'] == 'control')]\n",
    "num_control_users = df2[df2['group'] == 'control']['user_id'].nunique()\n",
    "prob_control = control_converted['user_id'].nunique() / num_control_users\n",
    "print(f\"Probability of converting in control group: {prob_control: .2%}\")"
   ]
  },
  {
   "cell_type": "markdown",
   "metadata": {},
   "source": [
    "c. Given that an individual was in the `treatment` group, what is the probability they converted?"
   ]
  },
  {
   "cell_type": "code",
   "execution_count": 22,
   "metadata": {
    "collapsed": true
   },
   "outputs": [
    {
     "name": "stdout",
     "output_type": "stream",
     "text": [
      "Probability of converting in treatment group:  11.88%\n"
     ]
    }
   ],
   "source": [
    "treatment_converted = df2[(df2['converted'] == 1) & (df2['group'] == 'treatment')]\n",
    "num_treatment_users = df2[df2['group'] == 'treatment']['user_id'].nunique()\n",
    "prob_treatment = treatment_converted['user_id'].nunique() / num_treatment_users\n",
    "print(f\"Probability of converting in treatment group: {prob_treatment: .2%}\")"
   ]
  },
  {
   "cell_type": "markdown",
   "metadata": {},
   "source": [
    "d. What is the probability that an individual received the new page?"
   ]
  },
  {
   "cell_type": "code",
   "execution_count": 23,
   "metadata": {
    "collapsed": true
   },
   "outputs": [
    {
     "name": "stdout",
     "output_type": "stream",
     "text": [
      "Probability of receiving the new page:  50.01%\n"
     ]
    }
   ],
   "source": [
    "# What is the probability that an individual received the new page?\n",
    "prob_new_page = df2[df2['landing_page'] == 'new_page']['user_id'].nunique() / num_unique_users_df2\n",
    "print(f\"Probability of receiving the new page: {prob_new_page: .2%}\")"
   ]
  },
  {
   "cell_type": "markdown",
   "metadata": {},
   "source": [
    "e. Consider your results from a. through d. above, and explain below whether you think there is sufficient evidence to say that the new treatment page leads to more conversions."
   ]
  },
  {
   "cell_type": "markdown",
   "metadata": {},
   "source": [
    "Based on the results above, there is **not** sufficient evidence to say that the new treatment page leads to more conversions.\n",
    "\n",
    "The probabilities of conversion for both the control and treatment groups are very similar, and the overall conversion rate does not show a significant difference between users who received the new page and those who received the old page. "
   ]
  },
  {
   "cell_type": "markdown",
   "metadata": {},
   "source": [
    "<a id='ab_test'></a>\n",
    "### Part II - A/B Test\n",
    "\n",
    "Notice that because of the time stamp associated with each event, you could technically run a hypothesis test continuously as each observation was observed.  \n",
    "\n",
    "However, then the hard question is do you stop as soon as one page is considered significantly better than another or does it need to happen consistently for a certain amount of time?  How long do you run to render a decision that neither page is better than another?  \n",
    "\n",
    "These questions are the difficult parts associated with A/B tests in general.  \n",
    "\n",
    "\n",
    "`1.` For now, consider you need to make the decision just based on all the data provided.  If you want to assume that the old page is better unless the new page proves to be definitely better at a Type I error rate of 5%, what should your null and alternative hypotheses be?  You can state your hypothesis in terms of words or in terms of **$p_{old}$** and **$p_{new}$**, which are the converted rates for the old and new pages."
   ]
  },
  {
   "cell_type": "markdown",
   "metadata": {},
   "source": [
    "**Null Hypothesis ($H_0$):** The conversion rate for the new page is less than or equal to the conversion rate for the old page.\n",
    "$$\n",
    "H_0: p_{new} \\leq p_{old}\n",
    "$$\n",
    "\n",
    "**Alternative Hypothesis ($H_1$):** The conversion rate for the new page is greater than the conversion rate for the old page.\n",
    "$$\n",
    "H_1: p_{new} > p_{old}\n",
    "$$\n",
    "\n",
    "In words:\n",
    "- **Null:** The new page does not lead to more conversions than the old page.\n",
    "- **Alternative:** The new page leads to more conversions than the old page."
   ]
  },
  {
   "cell_type": "markdown",
   "metadata": {},
   "source": [
    "`2.` Assume under the null hypothesis, $p_{new}$ and $p_{old}$ both have \"true\" success rates equal to the **converted** success rate regardless of page - that is $p_{new}$ and $p_{old}$ are equal. Furthermore, assume they are equal to the **converted** rate in **ab_data.csv** regardless of the page. <br><br>\n",
    "\n",
    "Use a sample size for each page equal to the ones in **ab_data.csv**.  <br><br>\n",
    "\n",
    "Perform the sampling distribution for the difference in **converted** between the two pages over 10,000 iterations of calculating an estimate from the null.  <br><br>\n",
    "\n",
    "Use the cells below to provide the necessary parts of this simulation.  If this doesn't make complete sense right now, don't worry - you are going to work through the problems below to complete this problem.  You can use **Quiz 5** in the classroom to make sure you are on the right track.<br><br>"
   ]
  },
  {
   "cell_type": "code",
   "execution_count": 124,
   "metadata": {},
   "outputs": [
    {
     "name": "stdout",
     "output_type": "stream",
     "text": [
      "Convert rate for p_null under the null: 11.96%\n",
      "Sample size for new page: 145310, Sample size for old page: 145274\n",
      "Mean of p_diffs: -0.0000\n"
     ]
    }
   ],
   "source": [
    "# Get the overall conversion rate under the null\n",
    "p_null = df2['converted'].mean()\n",
    "print(f\"Convert rate for p_null under the null: {p_null:.2%}\")\n",
    "\n",
    "# Get sample sizes for new and old pages\n",
    "n_new = df2[df2['landing_page'] == 'new_page'].shape[0]\n",
    "n_old = df2[df2['landing_page'] == 'old_page'].shape[0]\n",
    "print(f\"Sample size for new page: {n_new}, Sample size for old page: {n_old}\")\n",
    "\n",
    "# Simulate 10,000 samples for new and old pages\n",
    "p_diffs = []\n",
    "for _ in range(10000):\n",
    "    new_page_converted = np.random.binomial(n_new, p_null) / n_new\n",
    "    old_page_converted = np.random.binomial(n_old, p_null) / n_old\n",
    "    p_diffs.append(new_page_converted - old_page_converted)\n",
    "\n",
    "# Convert to numpy array for further analysis\n",
    "p_diffs = np.array(p_diffs)\n",
    "print(f\"Mean of p_diffs: {np.mean(p_diffs):.4f}\")"
   ]
  },
  {
   "cell_type": "markdown",
   "metadata": {},
   "source": [
    "a. What is the **convert rate** for $p_{new}$ under the null? "
   ]
  },
  {
   "cell_type": "code",
   "execution_count": 49,
   "metadata": {
    "collapsed": true
   },
   "outputs": [
    {
     "name": "stdout",
     "output_type": "stream",
     "text": [
      "Convert rate for p_new under the null: 11.96%\n"
     ]
    }
   ],
   "source": [
    "print(f\"Convert rate for p_new under the null: {p_null:.2%}\")"
   ]
  },
  {
   "cell_type": "markdown",
   "metadata": {},
   "source": [
    "b. What is the **convert rate** for $p_{old}$ under the null? <br><br>"
   ]
  },
  {
   "cell_type": "code",
   "execution_count": 50,
   "metadata": {
    "collapsed": true
   },
   "outputs": [
    {
     "name": "stdout",
     "output_type": "stream",
     "text": [
      "Convert rate for p_old under the null: 11.96%\n"
     ]
    }
   ],
   "source": [
    "print(f\"Convert rate for p_old under the null: {p_null:.2%}\")"
   ]
  },
  {
   "cell_type": "markdown",
   "metadata": {},
   "source": [
    "c. What is $n_{new}$?"
   ]
  },
  {
   "cell_type": "code",
   "execution_count": 56,
   "metadata": {
    "collapsed": true
   },
   "outputs": [
    {
     "name": "stdout",
     "output_type": "stream",
     "text": [
      "Sample size for new page: 145310\n"
     ]
    }
   ],
   "source": [
    "print(f\"Sample size for new page: {n_new}\")"
   ]
  },
  {
   "cell_type": "markdown",
   "metadata": {},
   "source": [
    "d. What is $n_{old}$?"
   ]
  },
  {
   "cell_type": "code",
   "execution_count": 55,
   "metadata": {
    "collapsed": true
   },
   "outputs": [
    {
     "name": "stdout",
     "output_type": "stream",
     "text": [
      "Sample size for old page: 145274\n"
     ]
    }
   ],
   "source": [
    "print(f\"Sample size for old page: {n_old}\")"
   ]
  },
  {
   "cell_type": "markdown",
   "metadata": {},
   "source": [
    "e. Simulate $n_{new}$ transactions with a convert rate of $p_{new}$ under the null.  Store these $n_{new}$ 1's and 0's in **new_page_converted**."
   ]
  },
  {
   "cell_type": "code",
   "execution_count": 174,
   "metadata": {
    "collapsed": true
   },
   "outputs": [
    {
     "name": "stdout",
     "output_type": "stream",
     "text": [
      "Quantidade de 1's: 17480\n",
      "Quantidade de 0's: 127830\n",
      "Proporção de 1's: 0.1203 ou 12.03%\n"
     ]
    }
   ],
   "source": [
    "# Simulate n_new transactions with a convert rate of p_new under the null. Store these n_new 1's and 0's in new_page_converted\n",
    "new_page_converted = np.random.binomial(1, p_null, size=n_new)\n",
    "new_page_converted\n",
    "\n",
    "num_ones = np.sum(new_page_converted)\n",
    "num_zeros = len(new_page_converted) - num_ones\n",
    "proportion_ones = num_ones / len(new_page_converted)\n",
    "\n",
    "print(f\"Quantidade de 1's: {num_ones}\")\n",
    "print(f\"Quantidade de 0's: {num_zeros}\")\n",
    "print(f\"Proporção de 1's: {proportion_ones:.4f} ou {proportion_ones:.2%}\")"
   ]
  },
  {
   "cell_type": "markdown",
   "metadata": {},
   "source": [
    "f. Simulate $n_{old}$ transactions with a convert rate of $p_{old}$ under the null.  Store these $n_{old}$ 1's and 0's in **old_page_converted**."
   ]
  },
  {
   "cell_type": "code",
   "execution_count": 175,
   "metadata": {
    "collapsed": true
   },
   "outputs": [
    {
     "name": "stdout",
     "output_type": "stream",
     "text": [
      "Quantidade de 1's: 17321\n",
      "Quantidade de 0's: 127953\n",
      "Proporção de 1's: 0.1192 ou 11.92%\n"
     ]
    }
   ],
   "source": [
    "# Simulate n_old transactions with a convert rate of p_new under the null. Store these n_old 1's and 0's in old_page_converted\n",
    "old_page_converted = np.random.binomial(1, p_null, size=n_old)\n",
    "old_page_converted\n",
    "\n",
    "num_ones = np.sum(old_page_converted)\n",
    "num_zeros = len(old_page_converted) - num_ones\n",
    "proportion_ones = num_ones / len(old_page_converted)\n",
    "\n",
    "print(f\"Quantidade de 1's: {num_ones}\")\n",
    "print(f\"Quantidade de 0's: {num_zeros}\")\n",
    "print(f\"Proporção de 1's: {proportion_ones:.4f} ou {proportion_ones:.2%}\")"
   ]
  },
  {
   "cell_type": "markdown",
   "metadata": {},
   "source": [
    "g. Find $p_{new}$ - $p_{old}$ for your simulated values from part (e) and (f)."
   ]
  },
  {
   "cell_type": "code",
   "execution_count": 177,
   "metadata": {
    "collapsed": true
   },
   "outputs": [
    {
     "name": "stdout",
     "output_type": "stream",
     "text": [
      "p_new - p_old: 0.0011\n"
     ]
    }
   ],
   "source": [
    "p_new = np.mean(new_page_converted)\n",
    "p_old = np.mean(old_page_converted)\n",
    "print(f\"p_new - p_old: {p_new - p_old:.4f}\")"
   ]
  },
  {
   "cell_type": "markdown",
   "metadata": {},
   "source": [
    "h. Simulate 10,000 $p_{new}$ - $p_{old}$ values using this same process similarly to the one you calculated in parts **a. through g.** above.  Store all 10,000 values in a numpy array called **p_diffs**."
   ]
  },
  {
   "cell_type": "code",
   "execution_count": 189,
   "metadata": {
    "collapsed": true
   },
   "outputs": [
    {
     "name": "stdout",
     "output_type": "stream",
     "text": [
      "Mean of p_diffs: 0.0000\n"
     ]
    }
   ],
   "source": [
    "# Simulate 10,000 $p_{new}$ - $p_{old}$ values using this same process similarly to the one you calculated in parts **a. through g.** above.  Store all 10,000 values in a numpy array called **p_diffs**.\n",
    "p_diffs = []\n",
    "for _ in range(10000):\n",
    "    new_page_converted = np.random.binomial(n_new, p_null) / n_new\n",
    "    old_page_converted = np.random.binomial(n_old, p_null) / n_old\n",
    "    p_diffs.append(new_page_converted - old_page_converted)\n",
    "\n",
    "# Convert to numpy array for further analysis\n",
    "p_diffs = np.array(p_diffs)\n",
    "print(f\"Mean of p_diffs: {np.mean(p_diffs):.4f}\")"
   ]
  },
  {
   "cell_type": "markdown",
   "metadata": {},
   "source": [
    "i. Plot a histogram of the **p_diffs**.  Does this plot look like what you expected?  Use the matching problem in the classroom to assure you fully understand what was computed here."
   ]
  },
  {
   "cell_type": "code",
   "execution_count": 191,
   "metadata": {
    "collapsed": true
   },
   "outputs": [
    {
     "data": {
      "image/png": "[encoded data removed]",
      "text/plain": [
       "<Figure size 640x480 with 1 Axes>"
      ]
     },
     "metadata": {},
     "output_type": "display_data"
    }
   ],
   "source": [
    "plt.hist(p_diffs, bins=30, edgecolor='black')\n",
    "plt.title('Histogram of p_diffs')\n",
    "plt.xlabel('Difference in Conversion Rates (p_new - p_old)')\n",
    "plt.ylabel('Frequency')\n",
    "plt.axvline(x=np.mean(p_diffs), color='red', linestyle='dashed', linewidth=1, label='Mean of p_diffs')\n",
    "plt.legend()\n",
    "plt.show()"
   ]
  },
  {
   "cell_type": "markdown",
   "metadata": {},
   "source": [
    "The histogram of `p_diffs` shows the sampling distribution of the difference in conversion rates ($p_{new} - p_{old}$) under the **null hypothesis**.\n",
    "\n",
    "### What does it represent?\n",
    "\n",
    "Each value in `p_diffs` is the result of one simulation where I randomly assign conversions to the new and old pages, assuming both have the same true conversion rate (`p_null`).\n",
    "The histogram shows how these simulated differences are distributed when there is no real difference between the pages.\n",
    "\n",
    "### Matching problem analogy\n",
    "\n",
    "Above I simulate what would happen by chance if there is no effect (no difference between groups). The histogram answers:\n",
    "\n",
    "\"If the new and old pages are equally effective, what kind of differences in conversion rates might we see just by random variation?\"\n",
    "\n",
    "#### What should you expect?\n",
    "\n",
    "The histogram should be centered around zero (since, under the null, the expected difference is zero).\n",
    "The spread (width) of the histogram shows the natural variability in the difference due to random sampling.\n",
    "Observed difference (from the real data) falls far in the tail of this histogram, it suggests the observed result is unlikely under the null.\n",
    "\n",
    "### In summary:\n",
    "\n",
    "The histogram of `p_diffs` visualizes the range of differences you could expect to see by chance alone, if there is truly no difference between the new and old pages. This is the basis for calculating a `p-value` and making statistical inferences."
   ]
  },
  {
   "cell_type": "markdown",
   "metadata": {},
   "source": [
    "j. What proportion of the **p_diffs** are greater than the actual difference observed in **ab_data.csv**?"
   ]
  },
  {
   "cell_type": "code",
   "execution_count": 198,
   "metadata": {
    "collapsed": true
   },
   "outputs": [
    {
     "name": "stdout",
     "output_type": "stream",
     "text": [
      "Proportion of p_diffs greater than actual difference: 0.9056\n"
     ]
    }
   ],
   "source": [
    "# What proportion of the **p_diffs** are greater than the actual difference observed in ab_data.csv\n",
    "actual_diff = df2[df2['landing_page'] == 'new_page']['converted'].mean() - df2[df2['landing_page'] == 'old_page']['converted'].mean()\n",
    "p_diffs_greater = np.sum(p_diffs > actual_diff) / len(p_diffs)\n",
    "print(f\"Proportion of p_diffs greater than actual difference: {p_diffs_greater:.4f}\")"
   ]
  },
  {
   "cell_type": "markdown",
   "metadata": {},
   "source": [
    "k. In words, explain what you just computed in part **j.**  What is this value called in scientific studies?  What does this value mean in terms of whether or not there is a difference between the new and old pages?"
   ]
  },
  {
   "cell_type": "markdown",
   "metadata": {},
   "source": [
    "This value is called the `p-value` in scientific studies.\n",
    "\n",
    "It represents the probability of observing a difference in conversion rates between the new and old pages **as large as or larger than the one actually observed, assuming that there is no real difference** between the pages (i.e., the null hypothesis is true).\n",
    "\n",
    "#### Interpretation:\n",
    "\n",
    "If the `p-value` is **small (typically less than 0.05)**, it suggests that the observed difference is **unlikely to have occurred by chance**, and we may have evidence to reject the null hypothesis.\n",
    "If the `p-value` is **large**, it means the observed difference could **easily occur by random chance**, so we do not have enough evidence to say there is a significant difference between the new and old pages."
   ]
  },
  {
   "cell_type": "markdown",
   "metadata": {},
   "source": [
    "l. We could also use a built-in to achieve similar results.  Though using the built-in might be easier to code, the above portions are a walkthrough of the ideas that are critical to correctly thinking about statistical significance. Fill in the below to calculate the number of conversions for each page, as well as the number of individuals who received each page. Let `n_old` and `n_new` refer the the number of rows associated with the old page and new pages, respectively."
   ]
  },
  {
   "cell_type": "code",
   "execution_count": 210,
   "metadata": {
    "collapsed": true
   },
   "outputs": [
    {
     "name": "stdout",
     "output_type": "stream",
     "text": [
      "Conversions for old page: 11.87% to 12.21%\n",
      "Conversions for new page: 11.71% to 12.05%\n"
     ]
    }
   ],
   "source": [
    "# Fill in the below to calculate the number of conversions for each page, as well as the number of individuals who received each page. Let `n_old` and `n_new` refer the the number of rows associated with the old page and new pages, respectively.\n",
    "# Use `statsmodels.api` to perform the calculations.\n",
    "\n",
    "import statsmodels.api as sm\n",
    "\n",
    "convert_old = sm.stats.proportion_confint(\n",
    "    count=df2[df2['landing_page'] == 'old_page']['converted'].sum(),\n",
    "    nobs=df2[df2['landing_page'] == 'old_page'].shape[0],\n",
    "    alpha=0.05,\n",
    "    method='normal'\n",
    ")\n",
    "convert_new = sm.stats.proportion_confint(\n",
    "    count=df2[df2['landing_page'] == 'new_page']['converted'].sum(),\n",
    "    nobs=df2[df2['landing_page'] == 'new_page'].shape[0],\n",
    "    alpha=0.05,\n",
    "    method='normal'\n",
    ")\n",
    "n_old = df2[df2['landing_page'] == 'old_page'].shape[0]\n",
    "n_new = df2[df2['landing_page'] == 'new_page'].shape[0] \n",
    "\n",
    "print(f\"Conversions for old page: {convert_old[0]*100:.2f}% to {convert_old[1]*100:.2f}%\")\n",
    "print(f\"Conversions for new page: {convert_new[0]*100:.2f}% to {convert_new[1]*100:.2f}%\")"
   ]
  },
  {
   "cell_type": "markdown",
   "metadata": {},
   "source": [
    "m. Now use `stats.proportions_ztest` to compute your test statistic and p-value.  [Here](http://knowledgetack.com/python/statsmodels/proportions_ztest/) is a helpful link on using the built in."
   ]
  },
  {
   "cell_type": "code",
   "execution_count": 211,
   "metadata": {
    "collapsed": true
   },
   "outputs": [
    {
     "name": "stdout",
     "output_type": "stream",
     "text": [
      "Z-statistic: 1.3109, P-value: 0.1899\n"
     ]
    }
   ],
   "source": [
    "# Now use `stats.proportions_ztest` to compute your test statistic and p-value.\n",
    "from statsmodels.stats.proportion import proportions_ztest\n",
    "z_stat, p_value = proportions_ztest(\n",
    "    count=[df2[df2['landing_page'] == 'old_page']['converted'].sum(),\n",
    "           df2[df2['landing_page'] == 'new_page']['converted'].sum()],\n",
    "    nobs=[n_old, n_new]\n",
    ")\n",
    "print(f\"Z-statistic: {z_stat:.4f}, P-value: {p_value:.4f}\")"
   ]
  },
  {
   "cell_type": "markdown",
   "metadata": {},
   "source": [
    "n. What do the z-score and p-value you computed in the previous question mean for the conversion rates of the old and new pages?  Do they agree with the findings in parts **j.** and **k.**?"
   ]
  },
  {
   "cell_type": "markdown",
   "metadata": {},
   "source": [
    "The `p-value (0.1899)` is much **greater** than the common significance level of **0.05**.\n",
    "This means we do not have enough evidence to *reject* the *null hypothesis*.\n",
    "In other words, **there is no statistically significant difference in conversion rates** between the old and new pages.\n",
    "\n",
    "#### Conclusion:\n",
    "The new page does not perform significantly better than the old page, so there is no reason (based on this data) to switch to the new page."
   ]
  },
  {
   "cell_type": "markdown",
   "metadata": {},
   "source": [
    "<a id='regression'></a>\n",
    "### Part III - A regression approach\n",
    "\n",
    "`1.` In this final part, you will see that the result you acheived in the previous A/B test can also be acheived by performing regression.<br><br>\n",
    "\n",
    "a. Since each row is either a conversion or no conversion, what type of regression should you be performing in this case?"
   ]
  },
  {
   "cell_type": "markdown",
   "metadata": {},
   "source": [
    "**Put your answer here.**"
   ]
  },
  {
   "cell_type": "markdown",
   "metadata": {},
   "source": [
    "b. The goal is to use **statsmodels** to fit the regression model you specified in part **a.** to see if there is a significant difference in conversion based on which page a customer receives.  However, you first need to create a column for the intercept, and create a dummy variable column for which page each user received.  Add an **intercept** column, as well as an **ab_page** column, which is 1 when an individual receives the **treatment** and 0 if **control**."
   ]
  },
  {
   "cell_type": "code",
   "execution_count": null,
   "metadata": {
    "collapsed": true
   },
   "outputs": [],
   "source": []
  },
  {
   "cell_type": "markdown",
   "metadata": {},
   "source": [
    "c. Use **statsmodels** to import your regression model.  Instantiate the model, and fit the model using the two columns you created in part **b.** to predict whether or not an individual converts."
   ]
  },
  {
   "cell_type": "code",
   "execution_count": null,
   "metadata": {
    "collapsed": true
   },
   "outputs": [],
   "source": []
  },
  {
   "cell_type": "markdown",
   "metadata": {},
   "source": [
    "d. Provide the summary of your model below, and use it as necessary to answer the following questions."
   ]
  },
  {
   "cell_type": "code",
   "execution_count": null,
   "metadata": {
    "collapsed": true
   },
   "outputs": [],
   "source": []
  },
  {
   "cell_type": "markdown",
   "metadata": {},
   "source": [
    "e. What is the p-value associated with **ab_page**? Why does it differ from the value you found in **Part II**?<br><br>  **Hint**: What are the null and alternative hypotheses associated with your regression model, and how do they compare to the null and alternative hypotheses in the **Part II**?"
   ]
  },
  {
   "cell_type": "markdown",
   "metadata": {},
   "source": [
    "**Put your answer here.**"
   ]
  },
  {
   "cell_type": "markdown",
   "metadata": {},
   "source": [
    "f. Now, you are considering other things that might influence whether or not an individual converts.  Discuss why it is a good idea to consider other factors to add into your regression model.  Are there any disadvantages to adding additional terms into your regression model?"
   ]
  },
  {
   "cell_type": "markdown",
   "metadata": {},
   "source": [
    "**Put your answer here.**"
   ]
  },
  {
   "cell_type": "markdown",
   "metadata": {},
   "source": [
    "g. Now along with testing if the conversion rate changes for different pages, also add an effect based on which country a user lives. You will need to read in the **countries.csv** dataset and merge together your datasets on the approporiate rows.  [Here](https://pandas.pydata.org/pandas-docs/stable/generated/pandas.DataFrame.join.html) are the docs for joining tables. \n",
    "\n",
    "Does it appear that country had an impact on conversion?  Don't forget to create dummy variables for these country columns - **Hint: You will need two columns for the three dummy variables.** Provide the statistical output as well as a written response to answer this question."
   ]
  },
  {
   "cell_type": "code",
   "execution_count": null,
   "metadata": {
    "collapsed": true
   },
   "outputs": [],
   "source": [
    "countries_df = pd.read_csv('./countries.csv')\n",
    "df_new = countries_df.set_index('user_id').join(df2.set_index('user_id'), how='inner')"
   ]
  },
  {
   "cell_type": "code",
   "execution_count": null,
   "metadata": {
    "collapsed": true
   },
   "outputs": [],
   "source": [
    "### Create the necessary dummy variables"
   ]
  },
  {
   "cell_type": "markdown",
   "metadata": {},
   "source": [
    "h. Though you have now looked at the individual factors of country and page on conversion, we would now like to look at an interaction between page and country to see if there significant effects on conversion.  Create the necessary additional columns, and fit the new model.  \n",
    "\n",
    "Provide the summary results, and your conclusions based on the results."
   ]
  },
  {
   "cell_type": "code",
   "execution_count": null,
   "metadata": {
    "collapsed": true
   },
   "outputs": [],
   "source": [
    "### Fit Your Linear Model And Obtain the Results"
   ]
  },
  {
   "cell_type": "markdown",
   "metadata": {},
   "source": [
    "<a id='conclusions'></a>\n",
    "## Conclusions\n",
    "\n",
    "Congratulations on completing the project! \n",
    "\n",
    "### Gather Submission Materials\n",
    "\n",
    "Once you are satisfied with the status of your Notebook, you should save it in a format that will make it easy for others to read. You can use the __File -> Download as -> HTML (.html)__ menu to save your notebook as an .html file. If you are working locally and get an error about \"No module name\", then open a terminal and try installing the missing module using `pip install <module_name>` (don't include the \"<\" or \">\" or any words following a period in the module name).\n",
    "\n",
    "You will submit both your original Notebook and an HTML or PDF copy of the Notebook for review. There is no need for you to include any data files with your submission. If you made reference to other websites, books, and other resources to help you in solving tasks in the project, make sure that you document them. It is recommended that you either add a \"Resources\" section in a Markdown cell at the end of the Notebook report, or you can include a `readme.txt` file documenting your sources.\n",
    "\n",
    "### Submit the Project\n",
    "\n",
    "When you're ready, click on the \"Submit Project\" button to go to the project submission page. You can submit your files as a .zip archive or you can link to a GitHub repository containing your project files. If you go with GitHub, note that your submission will be a snapshot of the linked repository at time of submission. It is recommended that you keep each project in a separate repository to avoid any potential confusion: if a reviewer gets multiple folders representing multiple projects, there might be confusion regarding what project is to be evaluated.\n",
    "\n",
    "It can take us up to a week to grade the project, but in most cases it is much faster. You will get an email once your submission has been reviewed. If you are having any problems submitting your project or wish to check on the status of your submission, please email us at dataanalyst-project@udacity.com. In the meantime, you should feel free to continue on with your learning journey by beginning the next module in the program."
   ]
  },
  {
   "cell_type": "code",
   "execution_count": null,
   "metadata": {
    "collapsed": true
   },
   "outputs": [],
   "source": []
  }
 ],
 "metadata": {
  "kernelspec": {
   "display_name": "udacity",
   "language": "python",
   "name": "python3"
  },
  "language_info": {
   "codemirror_mode": {
    "name": "ipython",
    "version": 3
   },
   "file_extension": ".py",
   "mimetype": "text/x-python",
   "name": "python",
   "nbconvert_exporter": "python",
   "pygments_lexer": "ipython3",
   "version": "3.13.5"
  }
 },
 "nbformat": 4,
 "nbformat_minor": 2
}
